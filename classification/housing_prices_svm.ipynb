{
 "cells": [
  {
   "cell_type": "code",
   "execution_count": 1,
   "metadata": {},
   "outputs": [
    {
     "name": "stdout",
     "output_type": "stream",
     "text": [
      "Mean Squared Error = 15.38\n",
      "Explained Variance Score = 0.82\n"
     ]
    }
   ],
   "source": [
    "import numpy as np\n",
    "from sklearn import datasets\n",
    "from sklearn.svm import SVR\n",
    "from sklearn.metrics import mean_squared_error, explained_variance_score\n",
    "from sklearn.utils import shuffle\n",
    "\n",
    "data = datasets.load_boston()\n",
    "\n",
    "#Shuffle the data so that there is no bias\n",
    "#Bias is how well the model fits the training data\n",
    "#Variance is how well the model fares against general data\n",
    "X, y = shuffle(data.data, data.target, random_state = 7)\n",
    "\n",
    "#Divide the data into 8o% training and 20% testing dataset\n",
    "#training data is the first 80%, testing data is the last 20%\n",
    "num_training = int(0.8*len(X))\n",
    "X_train, y_train = X[:num_training], y[:num_training]\n",
    "X_test, y_test = X[num_training:], y[num_training:]\n",
    "\n",
    "#Use a support vector regressor \n",
    "sv_regressor = SVR(kernel = 'linear', C=1.0, epsilon = 0.1)\n",
    "\n",
    "sv_regressor.fit(X_train, y_train)\n",
    "\n",
    "y_test_pred = sv_regressor.predict(X_test)\n",
    "mse = mean_squared_error(y_test, y_test_pred)\n",
    "evs = explained_variance_score(y_test, y_test_pred)\n",
    "print(\"Mean Squared Error =\", round(mse, 2))\n",
    "print(\"Explained Variance Score =\", round(evs, 2))\n"
   ]
  },
  {
   "cell_type": "code",
   "execution_count": null,
   "metadata": {},
   "outputs": [],
   "source": []
  }
 ],
 "metadata": {
  "kernelspec": {
   "display_name": "Python 3",
   "language": "python",
   "name": "python3"
  },
  "language_info": {
   "codemirror_mode": {
    "name": "ipython",
    "version": 3
   },
   "file_extension": ".py",
   "mimetype": "text/x-python",
   "name": "python",
   "nbconvert_exporter": "python",
   "pygments_lexer": "ipython3",
   "version": "3.8.3"
  }
 },
 "nbformat": 4,
 "nbformat_minor": 4
}
