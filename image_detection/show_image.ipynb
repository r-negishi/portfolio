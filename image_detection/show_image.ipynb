{
 "cells": [
  {
   "cell_type": "code",
   "execution_count": 1,
   "metadata": {},
   "outputs": [],
   "source": [
    "#Function to be used in proceeding projects\n",
    "#Captures a frame from movie file and displays it\n",
    "import cv2\n",
    "import IPython.display"
   ]
  },
  {
   "cell_type": "code",
   "execution_count": 2,
   "metadata": {},
   "outputs": [],
   "source": [
    "def show_image(image):\n",
    "    _, png = cv2.imencode('.png', image)\n",
    "    i = IPython.display.Image(data=png)\n",
    "    IPython.display.clear_output(wait=True)\n",
    "    IPython.display.display(i)\n",
    "def get_frame(cap, scaling_factor):\n",
    "    r, frame = cap.read()\n",
    "    if not r: return None\n",
    "    frame = cv2.resize(frame, None, fx = scaling_factor, fy = scaling_factor, interpolation = cv2.INTER_AREA)\n",
    "    import time\n",
    "    time.sleep(0.03)\n",
    "    return frame"
   ]
  },
  {
   "cell_type": "code",
   "execution_count": null,
   "metadata": {},
   "outputs": [],
   "source": []
  }
 ],
 "metadata": {
  "kernelspec": {
   "display_name": "Python 3",
   "language": "python",
   "name": "python3"
  },
  "language_info": {
   "codemirror_mode": {
    "name": "ipython",
    "version": 3
   },
   "file_extension": ".py",
   "mimetype": "text/x-python",
   "name": "python",
   "nbconvert_exporter": "python",
   "pygments_lexer": "ipython3",
   "version": "3.8.3"
  }
 },
 "nbformat": 4,
 "nbformat_minor": 4
}
